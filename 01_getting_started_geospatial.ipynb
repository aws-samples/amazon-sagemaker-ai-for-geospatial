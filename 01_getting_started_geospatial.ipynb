{
 "cells": [
  {
   "cell_type": "markdown",
   "id": "84b9e41b-be32-40be-ba36-e7f679802949",
   "metadata": {},
   "source": [
    "# Lab 1: Getting started with geospatial data analysis\n",
    "\n",
    "This notebook is part of the blog post [Getting Started with Geospatial Analysis on SageMaker Studio Lab](https://towardsdatascience.com/getting-started-with-geospatial-analysis-b2116c50308b) and covers the basics of getting started with Geospatial Data Analysis on SageMaker Studio Labs. We start with exploring publicly available geographic datasets and then explore the sentinel geospatial dataset available at AWS open data registry. We explore California Lakes and Counties using geographic vector data and then focus Lake Shasta in California for analyzing Sentinel-2 geospatial data and calculating spectral indices. \n",
    "\n",
    "<div class=\"alert alert-info\">\n",
    "This notebook is based on the GitHub repo <code>https://github.com/samx18/geospatial_analysis</code> and is updated for SageMaker AI Studio\n",
    "</div>\n"
   ]
  },
  {
   "cell_type": "code",
   "execution_count": null,
   "id": "8f4a2ce7-71b9-4e87-bae2-64eb61cd0e52",
   "metadata": {},
   "outputs": [],
   "source": [
    "# install packages\n",
    "# !python3 -m pip install --force-reinstall --no-cache -q -r requirements.txt"
   ]
  },
  {
   "cell_type": "code",
   "execution_count": null,
   "id": "034e8886-dd18-42df-be76-fc11c6e125f7",
   "metadata": {},
   "outputs": [],
   "source": [
    "import psutil\n",
    "import platform\n",
    "\n",
    "# CPU Information\n",
    "print(\"=== CPU Information ===\")\n",
    "print(f\"Physical cores: {psutil.cpu_count(logical=False)}\")\n",
    "print(f\"Total cores: {psutil.cpu_count(logical=True)}\")\n",
    "print(f\"CPU Frequency: {psutil.cpu_freq().current:.2f}MHz\")\n",
    "print(f\"CPU Usage Per Core:\")\n",
    "for i, percentage in enumerate(psutil.cpu_percent(percpu=True, interval=1)):\n",
    "    print(f\"Core {i}: {percentage}%\")\n",
    "\n",
    "# Memory Information\n",
    "print(\"\\n=== Memory Information ===\")\n",
    "memory = psutil.virtual_memory()\n",
    "print(f\"Total: {memory.total / (1024**3):.2f} GB\")\n",
    "print(f\"Available: {memory.available / (1024**3):.2f} GB\")\n",
    "print(f\"Used: {memory.used / (1024**3):.2f} GB\")\n",
    "print(f\"Percentage: {memory.percent}%\")\n",
    "\n",
    "# Try to get GPU information if available\n",
    "try:\n",
    "    print(\"\\n=== GPU Information ===\")\n",
    "    !nvidia-smi\n",
    "except:\n",
    "    print(\"No GPU information available or nvidia-smi not installed\")\n"
   ]
  },
  {
   "cell_type": "markdown",
   "id": "d0030522-4e44-468b-a499-5f47ab290319",
   "metadata": {},
   "source": [
    "## Install Packages\n",
    "Install required packages"
   ]
  },
  {
   "cell_type": "code",
   "execution_count": null,
   "id": "97161e6d",
   "metadata": {},
   "outputs": [],
   "source": [
    "%pip install pandas\n",
    "%pip install numpy\n",
    "%pip install geopandas\n",
    "%pip install shapely\n",
    "%pip install matplotlib\n",
    "%pip install plotly_express\n",
    "%pip install sentinelhub[AWS]\n",
    "%pip install rasterio\n",
    "%pip install earthpy\n",
    "%pip install folium"
   ]
  },
  {
   "cell_type": "markdown",
   "id": "8fffd7ab-5ed6-4f73-a675-c21a37497939",
   "metadata": {},
   "source": [
    "## Import Packages\n",
    "After the environment is created and selected or the packages installed manually, we can import them directly."
   ]
  },
  {
   "cell_type": "code",
   "execution_count": null,
   "id": "ab9ce544",
   "metadata": {},
   "outputs": [],
   "source": [
    "import pandas as pd\n",
    "import numpy as np\n",
    "import geopandas as gpd\n",
    "from shapely.geometry import Point\n",
    "import matplotlib\n",
    "import matplotlib.pyplot as plt \n",
    "import folium\n",
    "import plotly_express as px\n",
    "import os\n",
    "import warnings\n",
    "warnings.filterwarnings('ignore')"
   ]
  },
  {
   "cell_type": "markdown",
   "id": "d8d27e39-a080-41cb-9285-49da5df9bbcd",
   "metadata": {},
   "source": [
    "## Download Data\n",
    "Download shapely files that include the geographic data for California counties and water bodies. \n",
    "- The CA Counties dataset contains boundaries for CA State, counties and places from the US Census Bureau's 2016 MAF/TIGER database available at https://data.ca.gov/dataset/ca-geographic-boundaries . \n",
    "- The California water bodies dataset is published by California. Department of Fish and Game. Marine Resources Region and is available for download here - https://maps.princeton.edu/download/file/stanford-zx543xm6802-shapefile.zip \n",
    "\n",
    "After the files are downloaded, we need to unzip these in your local directories.\n"
   ]
  },
  {
   "cell_type": "code",
   "execution_count": null,
   "id": "864769bb-4b7c-4339-af9f-16cf0eb0ad15",
   "metadata": {},
   "outputs": [],
   "source": [
    "# Download and extract California counties dataset\n",
    "\n",
    "ca_base_url = 'https://data.ca.gov/dataset/e212e397-1277-4df3-8c22-40721b095f33/resource/b0007416-a325-4777-9295-368ea6b710e6/download/'\n",
    "ca_data_file = 'ca_counties.zip'\n",
    "\n",
    "if not os.path.isfile(ca_data_file):\n",
    "    !wget {ca_base_url}{ca_data_file} --no-check-certificate\n",
    "    !unzip -o {ca_data_file} -d ca_counties"
   ]
  },
  {
   "cell_type": "code",
   "execution_count": null,
   "id": "7eb4f639-fcc4-4829-b866-fcc8c9394104",
   "metadata": {},
   "outputs": [],
   "source": [
    "# Download and extract California lakes dataset\n",
    "\n",
    "lakes_base_url = 'https://maps.princeton.edu/download/file/'\n",
    "lakes_data_file = 'stanford-zx543xm6802-shapefile.zip'\n",
    "if not os.path.isfile(lakes_data_file):\n",
    "    !wget {lakes_base_url}{lakes_data_file} --no-check-certificate\n",
    "    !unzip -o {lakes_data_file} -d ca_lakes"
   ]
  },
  {
   "cell_type": "markdown",
   "id": "716a3f7d-66ff-4068-a01f-6433798fdac8",
   "metadata": {},
   "source": [
    "## Geographic EDA\n",
    "Once downloaded, we can read the data and perform exploratory data analysis. We use the `geopanads` python package that makes it easy to read these shapefiles and create a `geopandas.DataFrame`."
   ]
  },
  {
   "cell_type": "code",
   "execution_count": null,
   "id": "fc0d3cf2",
   "metadata": {},
   "outputs": [],
   "source": [
    "file = 'ca_counties/CA_Counties.shp' #'CA_Counties/CA_Counties_TIGER2016.shp'\n",
    "counties = gpd.read_file(file)\n",
    "counties.shape"
   ]
  },
  {
   "cell_type": "code",
   "execution_count": null,
   "id": "82ee810d",
   "metadata": {},
   "outputs": [],
   "source": [
    "# data check\n",
    "counties.head()"
   ]
  },
  {
   "cell_type": "markdown",
   "id": "6b35eadb-5d69-44ae-8798-f089925e145b",
   "metadata": {},
   "source": [
    "Once you have the data in a `geopandas.DataFrame` you can easily visualize it. Like standard `pandas.DataFrames`, a `geopandas.DataFrame` has a handy plot method that you can use to create geographic visualizations."
   ]
  },
  {
   "cell_type": "code",
   "execution_count": null,
   "id": "eb4dedeb",
   "metadata": {},
   "outputs": [],
   "source": [
    "fig, ax = plt.subplots(figsize=(12,12))\n",
    "counties.plot(ax=ax,color='xkcd:umber')\n",
    "plt.title(\"California counties\")\n",
    "plt.tight_layout()\n",
    "plt.show()"
   ]
  },
  {
   "cell_type": "markdown",
   "id": "96dd65ce-7e1a-4a9f-bfac-98146f89c1a3",
   "metadata": {},
   "source": [
    "Similarly we will read the California lakes shapefile into a `geopandas.DataFrame` and visualize it"
   ]
  },
  {
   "cell_type": "code",
   "execution_count": null,
   "id": "61b1ead7",
   "metadata": {},
   "outputs": [],
   "source": [
    "file = 'ca_lakes/zx543xm6802.shp'\n",
    "lakes = gpd.read_file(file)\n",
    "lakes.shape #check shape"
   ]
  },
  {
   "cell_type": "code",
   "execution_count": null,
   "id": "1f77e1d6",
   "metadata": {},
   "outputs": [],
   "source": [
    "# data profile\n",
    "lakes.head()"
   ]
  },
  {
   "cell_type": "code",
   "execution_count": null,
   "id": "94840a0d",
   "metadata": {},
   "outputs": [],
   "source": [
    "fig, ax = plt.subplots(figsize=(12,12))\n",
    "lakes.plot(ax=ax, color='xkcd:sea blue')\n",
    "plt.title(\"California Lakes\")\n",
    "plt.tight_layout()\n",
    "plt.show()"
   ]
  },
  {
   "cell_type": "markdown",
   "id": "a49b89d0-221d-4116-a8c7-8a3822812579",
   "metadata": {},
   "source": [
    "## Data Wrangling\n",
    "Let's say we want to overlay the lakes data with the counties data and visualize the lakes along with California counties. Before we can do that,  we need to check and ensure they are projected using the same coordinate reference system (CRS). The `crs` attribute of a `geopanads.DataFrame` does exactly this.  "
   ]
  },
  {
   "cell_type": "code",
   "execution_count": null,
   "id": "e2bb8df1",
   "metadata": {},
   "outputs": [],
   "source": [
    "counties.crs"
   ]
  },
  {
   "cell_type": "code",
   "execution_count": null,
   "id": "59f67b2f",
   "metadata": {},
   "outputs": [],
   "source": [
    "lakes.crs"
   ]
  },
  {
   "cell_type": "markdown",
   "id": "2259a43d-74c9-46cf-aa72-60f0cdbd5252",
   "metadata": {},
   "source": [
    "In our case the California counties and lakes data have different CRS.  So we will re-project the lakes to have the same CRS as counties."
   ]
  },
  {
   "cell_type": "code",
   "execution_count": null,
   "id": "d29e5ace",
   "metadata": {},
   "outputs": [],
   "source": [
    "# re-project lakes to epsg:3857\n",
    "lakes_projected = lakes.to_crs({'init': 'epsg:3857'})"
   ]
  },
  {
   "cell_type": "markdown",
   "id": "8ea79027-1fb7-4cf1-a89e-95057d9b1f39",
   "metadata": {},
   "source": [
    "Once we have both the geographic datasets in the same CRS projection, we can overlay and visualize them. "
   ]
  },
  {
   "cell_type": "code",
   "execution_count": null,
   "id": "820ae7f0",
   "metadata": {},
   "outputs": [],
   "source": [
    "# visualize overlay\n",
    "fig, ax = plt.subplots(figsize=(14,14))\n",
    "counties.plot(ax=ax,color='xkcd:umber')\n",
    "lakes_projected.plot(markersize=1, color='xkcd:sea blue',ax=ax)\n",
    "plt.title(\"California Counties and Lakes\")\n",
    "plt.show()"
   ]
  },
  {
   "cell_type": "markdown",
   "id": "cf845848-72d1-48a0-bc2f-1eec44b901af",
   "metadata": {},
   "source": [
    "#### Subset Selection\n",
    "We can select a subset of data from the our `geopandas.DataFrame` to create a new `geopandas.DataFrame` for further analysis and visualization. For our example, let's focus on Lake Shasta. "
   ]
  },
  {
   "cell_type": "code",
   "execution_count": null,
   "id": "376b8401-9bfb-4ecd-bc7e-b552c633f7d5",
   "metadata": {},
   "outputs": [],
   "source": [
    "shasta = lakes_projected[lakes_projected['name'] == \"Lake Shasta\"]\n",
    "shasta.head()"
   ]
  },
  {
   "cell_type": "markdown",
   "id": "d2f47684-8c65-499e-af63-df5098770ed6",
   "metadata": {},
   "source": [
    "#### Plotting Selection\n",
    "Once we have our area of interest selected, it becomes easy to visualize and study it better."
   ]
  },
  {
   "cell_type": "code",
   "execution_count": null,
   "id": "4b4dc4b8-f857-4374-a5ed-b746ce19f4ca",
   "metadata": {},
   "outputs": [],
   "source": [
    "shasta.plot(color='xkcd:sea blue');"
   ]
  },
  {
   "cell_type": "markdown",
   "id": "4e069d6b",
   "metadata": {},
   "source": [
    "## Working With Geospatial Images\n",
    "For Geospatial data, we will use Sentinel-2. The [Sentinel-2 mission](https://sentinel.esa.int/web/sentinel/missions/sentinel-2) is a land monitoring constellation of two satellites that provide high resolution optical imagery and continuity for the current SPOT and Landsat missions. The Sentinel-2 dataset is available publicly at the [AWS open data registry](https://registry.opendata.aws/sentinel-2/)."
   ]
  },
  {
   "cell_type": "markdown",
   "id": "42d74192-9b19-4afc-a4df-bb33e9d8fd30",
   "metadata": {},
   "source": [
    "We will use the `sentinelhub` python package, that makes it easy to search and download data specific to our focus area directly from AWS. "
   ]
  },
  {
   "cell_type": "code",
   "execution_count": null,
   "id": "4ba81f6c",
   "metadata": {},
   "outputs": [],
   "source": [
    "from sentinelhub import SHConfig\n",
    "config = SHConfig()"
   ]
  },
  {
   "cell_type": "code",
   "execution_count": null,
   "id": "fd394158-5d7c-4192-846d-d12e65482a65",
   "metadata": {},
   "outputs": [],
   "source": [
    "config"
   ]
  },
  {
   "cell_type": "markdown",
   "id": "c23cd514-f951-4409-b581-b3d41c4170eb",
   "metadata": {},
   "source": [
    "#### Sentinel Hub Setup\n",
    "This section shows how to configure your credentials for sentinelhub. You can use an optional json file to store and retrieve credentials."
   ]
  },
  {
   "cell_type": "code",
   "execution_count": null,
   "id": "2e5c4ad5-050e-4107-b655-c50b00a3ab4c",
   "metadata": {},
   "outputs": [],
   "source": [
    "# %%writefile config.json\n",
    "# {\n",
    "#     'sentinelhub':{'instance_id':1}\n",
    "# }"
   ]
  },
  {
   "cell_type": "code",
   "execution_count": null,
   "id": "cdbe583d-e40f-4c46-8ec5-13ee07597f4e",
   "metadata": {},
   "outputs": [],
   "source": [
    "# Set your SentinelHub instance id here\n",
    "sentinelhub_instance_id = 'ad7c1a32-4dcb-4d2a-ab6c-8418d7401719'"
   ]
  },
  {
   "cell_type": "code",
   "execution_count": null,
   "id": "b258fbbf-a5a8-4e10-aa22-f3e7aee41d70",
   "metadata": {},
   "outputs": [],
   "source": [
    "# import json\n",
    "\n",
    "# with open(\"config.json\") as json_data_file:\n",
    "#     cfg = json.load(json_data_file)"
   ]
  },
  {
   "cell_type": "code",
   "execution_count": null,
   "id": "1e9147b9-8a1d-43a6-ad5a-fc6a906cea06",
   "metadata": {},
   "outputs": [],
   "source": [
    "import boto3\n",
    "def get_session_credentials():\n",
    "    try:\n",
    "        # Get the current session\n",
    "        session = boto3.Session()\n",
    "        \n",
    "        # Get credentials from the session\n",
    "        credentials = session.get_credentials()\n",
    "        \n",
    "        # Get the frozen credentials (temporary credentials)\n",
    "        frozen_credentials = credentials.get_frozen_credentials()\n",
    "        \n",
    "        # Access the individual credential components\n",
    "        access_key = frozen_credentials.access_key\n",
    "        secret_key = frozen_credentials.secret_key\n",
    "        session_token = frozen_credentials.token\n",
    "        \n",
    "        return {\n",
    "            'aws_access_key_id': access_key,\n",
    "            'aws_secret_access_key': secret_key,\n",
    "            'aws_session_token': session_token\n",
    "        }\n",
    "    except Exception as e:\n",
    "        print(f\"Error retrieving credentials: {str(e)}\")\n",
    "        return None"
   ]
  },
  {
   "cell_type": "code",
   "execution_count": null,
   "id": "15f5a0a4-c1be-45d3-ac21-856c9ae3de5a",
   "metadata": {},
   "outputs": [],
   "source": [
    "# Get the credentials\n",
    "credentials = get_session_credentials()\n",
    "\n",
    "if credentials:\n",
    "    print(\"Successfully retrieved temporary credentials\")\n",
    "    # Use credentials as needed\n",
    "    # Note: It's best practice not to print the actual credentials\n",
    "else:\n",
    "    print(\"Failed to retrieve credentials\")"
   ]
  },
  {
   "cell_type": "code",
   "execution_count": null,
   "id": "ff17b1b6-0357-4581-83e5-b75e5521dbdb",
   "metadata": {},
   "outputs": [],
   "source": [
    "# test credentials\n",
    "if credentials:\n",
    "    s3_client = boto3.client(\n",
    "        's3',\n",
    "        aws_access_key_id=credentials['aws_access_key_id'],\n",
    "        aws_secret_access_key=credentials['aws_secret_access_key'],\n",
    "        aws_session_token=credentials['aws_session_token']\n",
    "    )"
   ]
  },
  {
   "cell_type": "code",
   "execution_count": null,
   "id": "eea43400-56d8-4545-b9f9-6b63f2a8f06a",
   "metadata": {},
   "outputs": [],
   "source": [
    "# s3_client.list_objects_v2(Bucket='cf-templates-1hiy7ofivmxze-us-west-2')"
   ]
  },
  {
   "cell_type": "code",
   "execution_count": null,
   "id": "4aab6a70",
   "metadata": {},
   "outputs": [],
   "source": [
    "# instance_id - Instance ID from from your Sentinel Hub account \n",
    "# aws_access_key_id - Access key ID from your AWS account\n",
    "# aws_secret_access_key - Secrect access key from your AWS account\n",
    "\n",
    "config.instance_id = sentinelhub_instance_id #cfg[\"sentinelhub\"][\"instance_id\"]\n",
    "config.aws_access_key_id = credentials[\"aws_access_key_id\"]\n",
    "config.aws_secret_access_key = credentials[\"aws_secret_access_key\"]\n",
    "config.aws_session_token = credentials['aws_session_token']"
   ]
  },
  {
   "cell_type": "code",
   "execution_count": null,
   "id": "1442d11e",
   "metadata": {},
   "outputs": [],
   "source": [
    "# Save the configuration\n",
    "config.save()"
   ]
  },
  {
   "cell_type": "code",
   "execution_count": null,
   "id": "7f244cb7",
   "metadata": {},
   "outputs": [],
   "source": [
    "# Verify credentials\n",
    "\n",
    "from sentinelhub import WebFeatureService, BBox, CRS, DataCollection, SHConfig\n",
    "if config.instance_id == '':\n",
    "    print(\"Warning! To use WFS functionality, please configure the `instance_id`.\")"
   ]
  },
  {
   "cell_type": "markdown",
   "id": "caa451c7-f828-4b34-a4a3-73cfe2aa3762",
   "metadata": {},
   "source": [
    "#### Data Search\n",
    "Before we download, we need to specify our search coordinates that we want to study and the time window. In our case we are focusing on the Lake Shasta region, which we specify as a bounding box and a random time period."
   ]
  },
  {
   "cell_type": "code",
   "execution_count": null,
   "id": "523c6b31",
   "metadata": {},
   "outputs": [],
   "source": [
    "# Specify bounding box and time interval for search\n",
    "\n",
    "search_bbox = BBox(bbox=[-123.050516,37.845040,-122.523172,38.249508], crs=CRS.WGS84)\n",
    "\n",
    "search_time_interval = ('2019-08-01T00:00:00', '2019-08-15T23:59:59')\n",
    "\n",
    "\n",
    "wfs_iterator = WebFeatureService(\n",
    "    search_bbox,\n",
    "    search_time_interval,\n",
    "    data_collection=DataCollection.SENTINEL2_L1C,\n",
    "    maxcc=1.0,\n",
    "    config=config\n",
    ")\n",
    "\n",
    "for tile_info in wfs_iterator:\n",
    "    print(tile_info)"
   ]
  },
  {
   "cell_type": "code",
   "execution_count": null,
   "id": "aa8a2b48",
   "metadata": {},
   "outputs": [],
   "source": [
    "# List available tiles\n",
    "wfs_iterator.get_tiles()"
   ]
  },
  {
   "cell_type": "markdown",
   "id": "514c6ce3-46dd-4425-850b-f7bcd8579b8c",
   "metadata": {},
   "source": [
    "#### Picking Tiles\n",
    "For best results, we pick a tile with least cloud coverage."
   ]
  },
  {
   "cell_type": "code",
   "execution_count": null,
   "id": "9769037b",
   "metadata": {},
   "outputs": [],
   "source": [
    "from sentinelhub.aws import AwsTile\n",
    "\n",
    "tile_id = 'S2A_OPER_MSI_L1C_TL_VGS2_20200815T224802_A026894_T10TEL_N02.09'\n",
    "tile_name, time, aws_index = AwsTile.tile_id_to_tile(tile_id)\n",
    "tile_name, time, aws_index"
   ]
  },
  {
   "cell_type": "markdown",
   "id": "30e57092-150a-4b57-9b85-f1129c2cd0ae",
   "metadata": {},
   "source": [
    "#### Sentinel Data Download\n",
    "The Sentinel-2 satellites each carry a single multi-spectral instrument (MSI) with 13 spectral channels in the visible/near infrared (VNIR) and short wave infrared spectral range (SWIR). You can read more about these bands [here](https://en.wikipedia.org/wiki/Sentinel-2#Spectral_bands). For our example will download eight specific bands that will aid our analysis."
   ]
  },
  {
   "cell_type": "code",
   "execution_count": null,
   "id": "df7af114",
   "metadata": {},
   "outputs": [],
   "source": [
    "warnings.simplefilter(\"ignore\", UserWarning)\n",
    "from sentinelhub.aws import AwsTileRequest\n",
    "\n",
    "bands = ['B01','B02','B03','B04','B07','B08','B8A', 'B10','B11','B12']\n",
    "metafiles = ['tileInfo', 'preview', 'qi/MSK_CLOUDS_B00']\n",
    "data_folder = './AwsData'\n",
    "\n",
    "request = AwsTileRequest(\n",
    "    tile=tile_name,\n",
    "    time=time,\n",
    "    aws_index=aws_index,\n",
    "    bands=bands,\n",
    "    metafiles=metafiles,\n",
    "    data_folder=data_folder,\n",
    "    data_collection=DataCollection.SENTINEL2_L1C\n",
    ")"
   ]
  },
  {
   "cell_type": "code",
   "execution_count": null,
   "id": "684b7f73-0e32-4e67-9aff-a91264b47027",
   "metadata": {},
   "outputs": [],
   "source": [
    "request.download_list"
   ]
  },
  {
   "cell_type": "code",
   "execution_count": null,
   "id": "de31c8e8-8fc3-477b-b58d-b0b71b2e6977",
   "metadata": {},
   "outputs": [],
   "source": [
    "request.config"
   ]
  },
  {
   "cell_type": "code",
   "execution_count": null,
   "id": "a67a88c6-fac8-4be7-a00a-3938e73e0788",
   "metadata": {},
   "outputs": [],
   "source": [
    "# Download sentinel2 data from AWS\n",
    "request.save_data()"
   ]
  },
  {
   "cell_type": "code",
   "execution_count": null,
   "id": "a8948ac2-0dc2-49d4-b7f0-b1dbb58956bc",
   "metadata": {},
   "outputs": [],
   "source": [
    "# !aws s3 cp s3://sentinel-s2-l1c/tiles/10/T/EL/2020/8/15/0/B01.jp2 ."
   ]
  },
  {
   "cell_type": "code",
   "execution_count": null,
   "id": "1019fcd1",
   "metadata": {},
   "outputs": [],
   "source": [
    "# Parse the request response \n",
    "\n",
    "data_list = request.get_data(redownload=False)\n",
    "\n",
    "p_b01,p_b02,p_b03,p_b04,p_b07,p_b08,p_b8a,p_b10,p_b11,p_b12,p_tile_info, p_preview, p_cloud_mask = data_list"
   ]
  },
  {
   "cell_type": "markdown",
   "id": "b11d1886-904a-41f4-91c2-af2bfca51018",
   "metadata": {},
   "source": [
    "#### Visualize Raw Data\n",
    "Along with the spectral bands, Sentinel tiles also include a preview image, let's check that out first to make sure we have the area of interest captured clearly."
   ]
  },
  {
   "cell_type": "code",
   "execution_count": null,
   "id": "412b5b7f",
   "metadata": {},
   "outputs": [],
   "source": [
    "# Preview \n",
    "\n",
    "plt.figure(figsize = (12,12))\n",
    "plt.imshow(p_preview,aspect='auto');"
   ]
  },
  {
   "cell_type": "markdown",
   "id": "5638507b-4ee8-4d5e-b978-25ef03474873",
   "metadata": {},
   "source": [
    "#### Checking Bands\n",
    "It's also a good practice to spot check a few additional bands to make sure we have everything. Here we plot Band 7 – Vegetation red edge, Band 8 – NIR and Band 8A – Narrow NIR."
   ]
  },
  {
   "cell_type": "code",
   "execution_count": null,
   "id": "01a65a9d",
   "metadata": {},
   "outputs": [],
   "source": [
    "plt.figure(figsize = (36,12));\n",
    "f, axarr = plt.subplots(1,3,figsize = (24,12));\n",
    "axarr[0].imshow(p_b07);\n",
    "axarr[0].title.set_text(\"Vegetation Red Edge\")\n",
    "axarr[1].imshow(p_b08);\n",
    "axarr[1].title.set_text(\"NIR\")\n",
    "axarr[2].imshow(p_b8a);\n",
    "axarr[2].title.set_text(\"Narrow NIR\")"
   ]
  },
  {
   "cell_type": "markdown",
   "id": "5ad27da1-a9f2-42dc-ac2d-1670ab776105",
   "metadata": {},
   "source": [
    "## Working with Raster Data\n",
    "Geospatial data is essentially comprised of raster data or vector data. Sentinel-2 uses GeoTIFF, a gridded raster datasets for satellite imagery and terrain models. Rasterio is a Python library that allows to read, inspect, visualize and write geospatial raster data. Here we use `rasterio` to read thee raster arrays and then use this data to create a true color image."
   ]
  },
  {
   "cell_type": "code",
   "execution_count": null,
   "id": "00185f67",
   "metadata": {},
   "outputs": [],
   "source": [
    "import rasterio\n",
    "from rasterio import plot"
   ]
  },
  {
   "cell_type": "markdown",
   "id": "23f7197f-3229-40ad-8662-4209f76cb686",
   "metadata": {},
   "source": [
    "For getting to the true color images, we will need the blue, green, red and NIR bands."
   ]
  },
  {
   "cell_type": "code",
   "execution_count": null,
   "id": "fd877235",
   "metadata": {},
   "outputs": [],
   "source": [
    "# Reeading the required bands with rasterio\n",
    "\n",
    "band2 = rasterio.open('./AwsData/10TEL,2020-08-15,0/B02.jp2', driver='JP2OpenJPEG') #blue\n",
    "band3 = rasterio.open('./AwsData/10TEL,2020-08-15,0/B03.jp2', driver='JP2OpenJPEG') #green\n",
    "band4 = rasterio.open('./AwsData/10TEL,2020-08-15,0/B04.jp2', driver='JP2OpenJPEG') #red\n",
    "band8 = rasterio.open('./AwsData/10TEL,2020-08-15,0/B08.jp2', driver='JP2OpenJPEG') #nir"
   ]
  },
  {
   "cell_type": "markdown",
   "id": "defd0606-92fe-4ca0-9ecb-f27850d5a006",
   "metadata": {},
   "source": [
    "#### True Color Image\n",
    "We can use `rasterio` to create a true color image in `.tiff` format. A true color image has a large file size, please ensure you have at least 2+ GBs of free disk space before exporting."
   ]
  },
  {
   "cell_type": "code",
   "execution_count": null,
   "id": "46a75538",
   "metadata": {},
   "outputs": [],
   "source": [
    "#export true color image\n",
    "trueColor = rasterio.open('./AwsData/lake_shasta.tiff','w',driver='Gtiff',\n",
    "                         width=band4.width, height=band4.height,\n",
    "                         count=3,\n",
    "                         crs=band4.crs,\n",
    "                         transform=band4.transform,\n",
    "                         dtype=band4.dtypes[0]\n",
    "                         )\n",
    "trueColor.write(band2.read(1),3) #blue\n",
    "trueColor.write(band3.read(1),2) #green\n",
    "trueColor.write(band4.read(1),1) #red\n",
    "trueColor.close()\n",
    "\n",
    "src = rasterio.open(r\"./AwsData/lake_shasta.tiff\", count=3)\n",
    "plot.show(src);"
   ]
  },
  {
   "cell_type": "markdown",
   "id": "b0cc3e2c-180d-41fa-a9d6-5eb524e3f5f1",
   "metadata": {},
   "source": [
    "#### Rendering a True Color Image\n",
    "As you see visualizing a tiff image directly within Jupyter is not very helpful. You will need a GIS software to open and view this. Below in a example that was processed using [QGIS](https://qgis.org/)"
   ]
  },
  {
   "cell_type": "code",
   "execution_count": null,
   "id": "65b004e6",
   "metadata": {},
   "outputs": [],
   "source": [
    "import matplotlib.image as mpimg\n",
    "plt.figure(figsize = (18,18))\n",
    "img = mpimg.imread('./images/lake_shasta.png')\n",
    "imgplot = plt.imshow(img)\n",
    "plt.show()"
   ]
  },
  {
   "cell_type": "markdown",
   "id": "448f00c4-80a3-4cb9-8b9f-6152592734e2",
   "metadata": {
    "tags": []
   },
   "source": [
    "## Calculating Spectral Indices\n",
    "Spectral indices are combinations of the pixel values from two or more spectral bands in a multispectral image. Spectral indices highlight pixels showing the relative abundance or lack of a land-cover type of interest in an image. Let's looks at a couple "
   ]
  },
  {
   "cell_type": "markdown",
   "id": "3b9d9f47-189f-4f6b-90ce-e0ebd81be39f",
   "metadata": {},
   "source": [
    "#### Normalized Difference Vegetation Index - NVDI\n",
    "The normalized difference vegetation index is a simple graphical indicator that can be used to analyze whether or not the target being observed contains live green vegetation. "
   ]
  },
  {
   "cell_type": "markdown",
   "id": "f1b6a949-c024-499e-bfb7-d9442b0e94ba",
   "metadata": {},
   "source": [
    "It calculated as `NDVI = (NIR – Red) / (NIR + Red)`"
   ]
  },
  {
   "cell_type": "code",
   "execution_count": null,
   "id": "186cf9cf-10b2-40cd-ac24-52f77e44d6fe",
   "metadata": {},
   "outputs": [],
   "source": [
    "b4 = rasterio.open('./AwsData/10TEL,2020-08-15,0/B04.jp2')\n",
    "b8 = rasterio.open('./AwsData/10TEL,2020-08-15,0/B08.jp2')\n",
    "\n",
    "# read Red(b4) and NIR(b8) as arrays\n",
    "red = b4.read()\n",
    "nir = b8.read()\n",
    "ndvi = (nir.astype(float)-red.astype(float))/(nir.astype(float)+red.astype(float))"
   ]
  },
  {
   "cell_type": "markdown",
   "id": "47b13909-8a01-4210-b5e0-2f72c6cec728",
   "metadata": {},
   "source": [
    "The `earthpy` package allows easy plotting of visualization of bands, we use it here to visualize the Normalized Difference Vegetation index around the Lake Shasta region."
   ]
  },
  {
   "cell_type": "code",
   "execution_count": null,
   "id": "b1115936-a234-4896-896e-0d0fa54a3ce7",
   "metadata": {},
   "outputs": [],
   "source": [
    "import earthpy.spatial as es\n",
    "import earthpy.plot as ep"
   ]
  },
  {
   "cell_type": "code",
   "execution_count": null,
   "id": "6a53fc01-0fb8-4125-a161-56ad9991af44",
   "metadata": {},
   "outputs": [],
   "source": [
    "title = \"Normalized Difference Vegetation Index (NDVI)\"\n",
    "ep.plot_bands(ndvi, cmap=\"RdYlGn\", cols=1, title=title, vmin=-1, vmax=1);"
   ]
  },
  {
   "cell_type": "markdown",
   "id": "78cca11d-11db-4365-a2ae-78652a5ab436",
   "metadata": {},
   "source": [
    "You can see areas with vegetation in green, areas with dense vegetation as darker shades of green, water bodes generally have low to no vegetation and as such in a contrasting shade of orange. "
   ]
  },
  {
   "cell_type": "markdown",
   "id": "2c618a8a-a13c-41d4-9aa0-5a5088eb666a",
   "metadata": {
    "tags": []
   },
   "source": [
    "#### Normalized Difference Water Index - NDWI\n",
    "Normalized Difference Water Index (NDWI) is use for analyzing water bodies. The index uses Green and Near infra-red bands of remote sensing images. The NDWI can enhance water information efficiently in most cases."
   ]
  },
  {
   "cell_type": "markdown",
   "id": "6578d6a9-7fa9-4689-93c1-ec98e53ef29f",
   "metadata": {},
   "source": [
    "NDWI is calculated as `NDWI = (GREEEN – NIR) / (GREEN + NIR)`"
   ]
  },
  {
   "cell_type": "code",
   "execution_count": null,
   "id": "17f055bb-8ffe-4cf5-a68c-51bd04eacc0f",
   "metadata": {},
   "outputs": [],
   "source": [
    "b3 = rasterio.open('./AwsData/10TEL,2020-08-15,0/B03.jp2')\n",
    "b8 = rasterio.open('./AwsData/10TEL,2020-08-15,0/B08.jp2')\n",
    "# read Gree(b4) annd NIR(b8) as arrays\n",
    "green = b3.read()\n",
    "nir = b8.read()\n",
    "ndwi = (green.astype(float)-nir.astype(float))/(green.astype(float)+nir.astype(float))"
   ]
  },
  {
   "cell_type": "code",
   "execution_count": null,
   "id": "7a93c22a-ca92-4ac8-a7c5-8dd199125115",
   "metadata": {},
   "outputs": [],
   "source": [
    "title = \"Normalized Difference Water Index (NDWI)\"\n",
    "ep.plot_bands(ndwi, cmap='YlGnBu', cols=1, title=title, vmin=-1, vmax=1); #cmap='YlGnBu'"
   ]
  },
  {
   "cell_type": "markdown",
   "id": "54c903cd-c3d3-4862-873d-e06b93f41cc0",
   "metadata": {},
   "source": [
    "The above visualization shows us the values plotted for the Lake Shasta region. You can see the lake area in blue and the areas with no or less water in contrasting shades."
   ]
  },
  {
   "cell_type": "markdown",
   "id": "15ed1983-d35f-4073-838d-755fdc34c64e",
   "metadata": {},
   "source": [
    "## Clean Up (Optional)\n",
    "Though we did not create any AWS billable resources as part of this exercise, the geographic and GIS data that we downloaded and the images generated may take up significant storage. Make sure to check any storage utilization and delete the files as needed."
   ]
  }
 ],
 "metadata": {
  "kernelspec": {
   "display_name": "Python 3 (ipykernel)",
   "language": "python",
   "name": "python3"
  },
  "language_info": {
   "codemirror_mode": {
    "name": "ipython",
    "version": 3
   },
   "file_extension": ".py",
   "mimetype": "text/x-python",
   "name": "python",
   "nbconvert_exporter": "python",
   "pygments_lexer": "ipython3",
   "version": "3.10.14"
  }
 },
 "nbformat": 4,
 "nbformat_minor": 5
}
