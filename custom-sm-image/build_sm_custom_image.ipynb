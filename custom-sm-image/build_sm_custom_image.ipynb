{
 "cells": [
  {
   "cell_type": "markdown",
   "id": "924a1f80-43e4-4c80-b4fa-a9569346457c",
   "metadata": {},
   "source": [
    "# Build custom SageMaker image for geospatial processing\n",
    "\n",
    "The [SageMaker Distribution](https://docs.aws.amazon.com/sagemaker/latest/dg/sagemaker-distribution.html) is a pre-built container for Studio JupyterLab apps that includes:\n",
    "- Deep learning frameworks (PyTorch, TensorFlow, Keras) for a GPU or CPU distribution type\n",
    "- Python ML packages (numpy, scikit-learn, pandas)\n",
    "- JupyterLab IDE\n",
    "  \n",
    "All components are compatible and up-to-date. The SageMaker Distribution enables ML practitioners to get started quickly with their ML development in SageMaker AI Studio. \n",
    "\n",
    "If you need functionality that is different than what's provided by SageMaker Distribution, you can bring your own image with your custom extensions and packages. The custom images based on the SageMaker Distribution can work both as interactive notebooks in SageMaker AI Studio and for SageMaker AI jobs like processing or training jobs, enabling smooth transitions from development in a notebook to production.\n",
    "\n",
    "This notebook demonstrate how to create a custom SageMaker image for Studio notebooks with specific geospatial processing libraries.\n",
    "\n",
    "See the  [Create custom images for geospatial analysis with Amazon SageMaker Distribution in Amazon SageMaker Studio](https://aws.amazon.com/blogs/machine-learning/create-custom-images-for-geospatial-analysis-with-amazon-sagemaker-distribution-in-amazon-sagemaker-studio/) blog post for detailed overview of a custom image creation requirements and workflow."
   ]
  },
  {
   "cell_type": "markdown",
   "id": "56f06e0d-c3d6-427b-a9ee-75a67bf81645",
   "metadata": {},
   "source": [
    "## Setup environment"
   ]
  },
  {
   "cell_type": "code",
   "execution_count": null,
   "id": "5e9c7e66-0f2e-49fc-b471-a1e9ccf8a366",
   "metadata": {},
   "outputs": [],
   "source": [
    "import os\n",
    "import json\n",
    "import boto3\n",
    "import sagemaker\n",
    "from packaging import version\n",
    "from IPython.display import HTML"
   ]
  },
  {
   "cell_type": "code",
   "execution_count": null,
   "id": "670a442a-ce92-4d61-ac31-b8407082fc16",
   "metadata": {},
   "outputs": [],
   "source": [
    "sm_client = boto3.client('sagemaker')"
   ]
  },
  {
   "cell_type": "code",
   "execution_count": null,
   "id": "b4e95679-8f93-43a3-be21-d26685dc38ae",
   "metadata": {},
   "outputs": [],
   "source": [
    "NOTEBOOK_METADATA_FILE = \"/opt/ml/metadata/resource-metadata.json\"\n",
    "domain_id = None\n",
    "\n",
    "if os.path.exists(NOTEBOOK_METADATA_FILE):\n",
    "    with open(NOTEBOOK_METADATA_FILE, \"rb\") as f:\n",
    "        metadata = json.loads(f.read())\n",
    "        domain_id = metadata.get('DomainId')\n",
    "        space_name = metadata.get('SpaceName')\n",
    "        print(f\"SageMaker domain id: {domain_id}\")\n",
    "\n",
    "if not space_name:\n",
    "    raise Exception(f\"Cannot find the current space name. Make sure you run this notebook in a JupyterLab in the SageMaker Studio\")\n",
    "else:\n",
    "    print(f\"Space name: {space_name}\")\n",
    "    \n",
    "r = sm_client.describe_space(DomainId=domain_id, SpaceName=space_name)\n",
    "user_profile_name = r['OwnershipSettings']['OwnerUserProfileName']\n",
    "\n",
    "assert(user_profile_name)\n",
    "print(f\"User profile: {user_profile_name}\")\n",
    "\n",
    "%store domain_id\n",
    "%store space_name\n",
    "%store user_profile_name"
   ]
  },
  {
   "cell_type": "code",
   "execution_count": null,
   "id": "49ddba6a-d7ab-4cf0-8c43-7a2585dde7ed",
   "metadata": {},
   "outputs": [],
   "source": [
    "role = sagemaker.get_execution_role()"
   ]
  },
  {
   "cell_type": "markdown",
   "id": "fb42297e-a021-4763-9bdd-cfed01978bd7",
   "metadata": {},
   "source": [
    "### Check if docker access is enabled in the domain"
   ]
  },
  {
   "cell_type": "code",
   "execution_count": null,
   "id": "51c8af8f-6d2a-4f31-a502-ca3d20ee9c4f",
   "metadata": {},
   "outputs": [],
   "source": [
    "# check that docker enabled in the SageMaker domain\n",
    "docker_settings = sm_client.describe_domain(DomainId=domain_id)['DomainSettings'].get('DockerSettings')\n",
    "docker_enabled = False\n",
    "\n",
    "if docker_settings:\n",
    "    if docker_settings.get('EnableDockerAccess') in ['ENABLED']:\n",
    "        print(f\"The docker access is ENABLED in the domain {domain_id}\")\n",
    "        docker_enabled = True\n",
    "\n",
    "if not docker_enabled:\n",
    "    raise Exception(f\"You must enable docker access in the domain to use Studio local mode\")"
   ]
  },
  {
   "cell_type": "markdown",
   "id": "72a4c48f-59fe-4fc7-af77-abaa6e58a084",
   "metadata": {},
   "source": [
    "<div style=\"border: 4px solid coral; text-align: center; margin: auto;\">\n",
    "If the previous code cell raised an exeption that the docker access is not enabled, you need to enable the access. See the following instructions how to do it.\n",
    "</div>"
   ]
  },
  {
   "cell_type": "code",
   "execution_count": null,
   "id": "39160cd6-14af-41e9-ae68-a2ff55b8cbb4",
   "metadata": {},
   "outputs": [],
   "source": [
    "print(f\"Domain id: {domain_id}\")"
   ]
  },
  {
   "cell_type": "markdown",
   "id": "eead40b4-5df0-4028-abf1-f54bcda09e65",
   "metadata": {},
   "source": [
    "### Enable docker access for the SageMaker domain\n",
    "\n",
    "<div class=\"alert alert-info\">You only need this section if the docker access is not enabled in the domain.\n",
    "</div>\n",
    "\n",
    "To update domain settings, you can use **one** of the following options.\n",
    "\n",
    "#### Option 1: run `update_domain` in the notebook\n",
    "You need `sagemaker:UpdateDomain` permission in the execution role to run the following code in the notebook.\n",
    "If you have the corresponding permissions, run the following code in a notebook:\n",
    "\n",
    "```python\n",
    "import boto3\n",
    "\n",
    "r = boto3.client('sagemaker').update_domain(\n",
    "    DomainId=domain_id,\n",
    "    DomainSettingsForUpdate={\n",
    "        'DockerSettings': {\n",
    "            'EnableDockerAccess':'ENABLED',\n",
    "        }\n",
    "    }\n",
    ")\n",
    "```\n",
    "\n",
    "#### Option 2: run `aws sagemaker` CLI in the  terminal\n",
    "Make sure you run `AWS CLI` in the terminal where you have the corresponding permission `sagemaker:UpdateDomain`. \n",
    "Run the following command:\n",
    "\n",
    "```\n",
    "aws sagemaker update-domain --domain-id <DOMAIN-ID> --domain-settings-for-update DockerSettings={EnableDockerAccess='ENABLED'}\n",
    "```\n",
    "\n",
    "For example, you can run the command above in the [AWS CloudShell](https://aws.amazon.com/blogs/aws/aws-cloudshell-command-line-access-to-aws-resources/) in your AWS account."
   ]
  },
  {
   "cell_type": "markdown",
   "id": "cb762735-3e68-4b45-aeba-aaa3cb53a5ca",
   "metadata": {},
   "source": [
    "### Install Docker"
   ]
  },
  {
   "cell_type": "code",
   "execution_count": null,
   "id": "4f44c103-e739-4cd8-a159-7b75a564b064",
   "metadata": {
    "scrolled": true
   },
   "outputs": [],
   "source": [
    "%%bash\n",
    "\n",
    "# see https://docs.docker.com/engine/install/ubuntu/#install-using-the-repository\n",
    "sudo apt-get update\n",
    "sudo apt-get install -y ca-certificates curl\n",
    "sudo install -m 0755 -d /etc/apt/keyrings\n",
    "sudo curl -fsSL https://download.docker.com/linux/ubuntu/gpg -o /etc/apt/keyrings/docker.asc\n",
    "sudo chmod a+r /etc/apt/keyrings/docker.asc\n",
    "\n",
    "# Add the repository to Apt sources:\n",
    "echo \\\n",
    "  \"deb [arch=$(dpkg --print-architecture) signed-by=/etc/apt/keyrings/docker.asc] https://download.docker.com/linux/ubuntu \\\n",
    "  $(. /etc/os-release && echo \"$VERSION_CODENAME\") stable\" | \\\n",
    "  sudo tee /etc/apt/sources.list.d/docker.list > /dev/null\n",
    "sudo apt-get update\n",
    "\n",
    "## Currently only Docker version 20.10.X is supported in Studio: see https://docs.aws.amazon.com/sagemaker/latest/dg/studio-updated-local.html\n",
    "# pick the latest patch from:\n",
    "# apt-cache madison docker-ce | awk '{ print $3 }' | grep -i 20.10\n",
    "VERSION_STRING=5:20.10.24~3-0~ubuntu-jammy\n",
    "sudo apt-get install docker-ce-cli=$VERSION_STRING docker-compose-plugin -y\n",
    "\n",
    "# validate the Docker Client is able to access Docker Server at [unix:///docker/proxy.sock]\n",
    "docker version"
   ]
  },
  {
   "cell_type": "markdown",
   "id": "923cb188-84ca-409e-9690-13f5ff3f5ad9",
   "metadata": {},
   "source": [
    "## Get the current SageMaker Image"
   ]
  },
  {
   "cell_type": "markdown",
   "id": "75c68efa-1790-42e6-83f0-506566efa987",
   "metadata": {},
   "source": [
    "The custom image is based on the current SageMaker image. See the [Amazon SageMaker Distribution GitHub](https://github.com/aws/sagemaker-distribution/) for the full list of SageMaker distribution images."
   ]
  },
  {
   "cell_type": "code",
   "execution_count": null,
   "id": "bb9a831e-585b-4fbd-9a48-1f9c219d359a",
   "metadata": {},
   "outputs": [],
   "source": [
    "# Retrieve the SageMaker image for the current space, extract the type (cpu/gpu) and the version\n",
    "try:\n",
    "    r = sm_client.describe_space(DomainId=domain_id, SpaceName=space_name)\n",
    "    resource_spec = r['SpaceSettings']['JupyterLabAppSettings']['DefaultResourceSpec']\n",
    "    sm_image = resource_spec['SageMakerImageArn']\n",
    "    sm_dist_type = sm_image.split('-')[-1]\n",
    "    sm_image_version = version.parse(resource_spec['SageMakerImageVersionAlias'])\n",
    "    sm_image_version = f'{sm_image_version.major}.{sm_image_version.minor}'\n",
    "except KeyError as e:\n",
    "    print(f'Cannot find the key {e} in the DescribeSpace output. Make sure you run this notebook in a built-in SageMaker Distribution Image, not in the custom image')\n",
    "    raise e\n",
    "\n",
    "print(f\"\"\"\n",
    "SageMaker image: \\033[1m{sm_image}\\033[0m\n",
    "SageMaker image type: \\033[1m{sm_dist_type}\\033[0m\n",
    "SageMaker image version: \\033[1m{sm_image_version}\\033[0m\n",
    "\"\"\")"
   ]
  },
  {
   "cell_type": "code",
   "execution_count": null,
   "id": "7b28b0e2-b4c7-4544-b3f6-b03f17682677",
   "metadata": {},
   "outputs": [],
   "source": [
    "repo_name = \"smd-custom-geo\"\n",
    "image_name = f'{sm_image_version}-{sm_dist_type}'\n",
    "\n",
    "account_id = boto3.client(\"sts\").get_caller_identity()[\"Account\"]\n",
    "region = sagemaker.Session().boto_region_name\n",
    "ecr_uri = f\"{account_id}.dkr.ecr.{region}.amazonaws.com/{repo_name}:{image_name}\"\n",
    "\n",
    "print(f'Custom image ECR URI: {ecr_uri}')"
   ]
  },
  {
   "cell_type": "markdown",
   "id": "d4201302-e0c3-473e-9e90-945f18dbe9d0",
   "metadata": {},
   "source": [
    "## Build a custom Docker image\n",
    "\n",
    "There are several approaches to build a custom SageMaker image. For any approach you need to implement the following steps:\n",
    "1. Create a Dockerfile extending from SageMaker Distribution and configured with required packages, dependencies, and environments\n",
    "2. Configure an Amazon ECR repository to host the images\n",
    "3. Build and push the image to ECR repository\n",
    "4. Attach the image to SageMaker AI Studio domain\n",
    "\n",
    "For simplicity, this notebook builds and pushes the image using bash script in code cells. For a real-world scenario you need to implement an automated image building and testing pipeline, and use Infrastructure as Code to automate the deployment.\n",
    "\n",
    "For more details refer to this [example](https://github.com/aws-samples/sagemaker-custom-image-for-geospatial-analytics) and [SageMaker AI documentation](https://docs.aws.amazon.com/sagemaker/latest/dg/studio-updated-jl-admin-guide-custom-images.html)."
   ]
  },
  {
   "cell_type": "code",
   "execution_count": null,
   "id": "5bd7302d-0a21-4d5a-9be8-25a16dc91ed7",
   "metadata": {},
   "outputs": [],
   "source": [
    "# %%bash\n",
    "\n",
    "# docker system prune -af "
   ]
  },
  {
   "cell_type": "code",
   "execution_count": null,
   "id": "564efb4a-a6e5-42f9-8f31-0aac8ca842bd",
   "metadata": {},
   "outputs": [],
   "source": [
    "# Pass the variables to the build script\n",
    "os.environ['REPO_NAME'] = repo_name\n",
    "os.environ['SMD_DIST_TYPE'] = sm_dist_type\n",
    "os.environ['SMD_VERSION'] = sm_image_version"
   ]
  },
  {
   "cell_type": "markdown",
   "id": "2aef2571-8949-4323-a424-17339b4c1b95",
   "metadata": {},
   "source": [
    "<img src=\"data:image/svg+xml;base64,Cjxzdmcgd2lkdGg9IjgwMCIgaGVpZ2h0PSIxMjUiIHZpZXdCb3g9IjAgMCA4MDAgMTI1IiB4bWxucz0iaHR0cDovL3d3dy53My5vcmcvMjAwMC9zdmciPgogICAgPGRlZnM+CiAgICAgICAgPGxpbmVhckdyYWRpZW50IGlkPSJmYWRlR3JhZGllbnQiIHgxPSIwIiB4Mj0iMSI+CiAgICAgICAgICAgIDxzdG9wIG9mZnNldD0iMCUiIHN0b3AtY29sb3I9IiNGMEYwRjAiLz4KICAgICAgICAgICAgPHN0b3Agb2Zmc2V0PSIxMDAlIiBzdG9wLWNvbG9yPSIjRjBGMEYwIiBzdG9wLW9wYWNpdHk9IjAiLz4KICAgICAgICA8L2xpbmVhckdyYWRpZW50PgogICAgICAgIDxtYXNrIGlkPSJmYWRlTWFzayI+CiAgICAgICAgICAgIDxyZWN0IHg9IjAiIHk9IjAiIHdpZHRoPSI3NTAiIGhlaWdodD0iMTI1IiBmaWxsPSJ3aGl0ZSIvPgogICAgICAgICAgICA8cmVjdCB4PSI3NTAiIHk9IjAiIHdpZHRoPSI1MCIgaGVpZ2h0PSIxMjUiIGZpbGw9InVybCgjZmFkZUdyYWRpZW50KSIvPgogICAgICAgIDwvbWFzaz4KICAgIDwvZGVmcz4KICAgIDxwYXRoIGQ9Ik0zLDUwIEE1MCw1MCAwIDAgMSA1MywzIEw3OTcsMyBMNzk3LDk3IEw5Nyw5NyBMNTAsMTE1IEwzLDk3IFoiIGZpbGw9IiNGMEYwRjAiIHN0cm9rZT0iI0UwRTBFMCIgc3Ryb2tlLXdpZHRoPSIxIiBtYXNrPSJ1cmwoI2ZhZGVNYXNrKSIvPgogICAgPGNpcmNsZSBjeD0iNTAiIGN5PSI1MCIgcj0iMzAiIGZpbGw9IiM1N2M0ZjgiIHN0cm9rZT0iIzU3YzRmOCIgc3Ryb2tlLXdpZHRoPSIxIi8+CiAgICA8Y2lyY2xlIGN4PSI1MCIgY3k9IjUwIiByPSIyNSIgZmlsbD0iI0YwRjBGMCIvPgogICAgPGxpbmUgeDE9IjUwIiB5MT0iNTAiIHgyPSI1MCIgeTI9IjMwIiBzdHJva2U9IiM1N2M0ZjgiIHN0cm9rZS13aWR0aD0iMyIgc3Ryb2tlLWxpbmVjYXA9InJvdW5kIi8+CiAgICA8bGluZSB4MT0iNTAiIHkxPSI1MCIgeDI9IjY1IiB5Mj0iNTAiIHN0cm9rZT0iIzU3YzRmOCIgc3Ryb2tlLXdpZHRoPSIzIiBzdHJva2UtbGluZWNhcD0icm91bmQiLz4KICAgIDx0ZXh0IHg9IjEwMCIgeT0iMzQiIGZvbnQtZmFtaWx5PSJBcmlhbCwgc2Fucy1zZXJpZiIgZm9udC1zaXplPSIxNCIgZmlsbD0iIzMzMzMzMyI+VGhlIG5leHQgY2VsbCBtYXkgdGFrZSBhIGZldyBtaW51dGVzIHRvIHJ1bi48L3RleHQ+Cjwvc3ZnPgo=\" alt=\"Time alert open medium\"/>"
   ]
  },
  {
   "cell_type": "code",
   "execution_count": null,
   "id": "3180f4d2-b30d-440e-9d81-f888177aae51",
   "metadata": {
    "scrolled": true
   },
   "outputs": [],
   "source": [
    "%%bash\n",
    "\n",
    "set -e\n",
    "\n",
    "# Region, defaults to us-east-1\n",
    "REGION=$AWS_DEFAULT_REGION\n",
    "REGION=${REGION:-us-east-1}\n",
    "\n",
    "ACCOUNT_ID=$(aws sts get-caller-identity --query Account --output text)\n",
    "\n",
    "echo \"REPO_NAME: $REPO_NAME\"\n",
    "echo \"ACCOUNT_ID: $ACCOUNT_ID\"\n",
    "echo \"REGION: $REGION\"\n",
    "echo \"SMD_DIST_TYPE: $SMD_DIST_TYPE\"\n",
    "echo \"SMD_VERSION: $SMD_VERSION\"\n",
    "\n",
    "TAG=${REPO_NAME}:${SMD_VERSION}-${SMD_DIST_TYPE}\n",
    "ECR_URI=\"${ACCOUNT_ID}.dkr.ecr.${REGION}.amazonaws.com/${TAG}\"\n",
    "\n",
    "echo \"IMAGE TAG: $TAG\"\n",
    "echo \"ECR TARGET: ${ACCOUNT_ID}.dkr.ecr.${REGION}.amazonaws.com/${TAG}\"\n",
    "\n",
    "# If the repository doesn't exist in ECR, create it.\n",
    "aws ecr describe-repositories --repository-names \"${REPO_NAME}\" > /dev/null 2>&1\n",
    "\n",
    "if [ $? -ne 0 ]\n",
    "then\n",
    "    aws ecr create-repository --repository-name \"${REPO_NAME}\" > /dev/null\n",
    "fi\n",
    "\n",
    "# Login to ECR\n",
    "aws ecr get-login-password --region ${REGION} | docker login --username AWS --password-stdin ${ECR_URI}\n",
    "\n",
    "# Build and push the image\n",
    "set -x\n",
    "docker build --network sagemaker -f Dockerfile --build-arg SMD_DISTRIBUTION_TYPE=$SMD_DIST_TYPE --build-arg SMD_VERSION=$SMD_VERSION -t $TAG .\n",
    "set +x\n",
    "\n",
    "docker tag $TAG ${ECR_URI}\n",
    "docker push ${ECR_URI}\n",
    "\n",
    "echo \"\"\n",
    "echo \"Created image pushed to ECR image URI: $ECR_URI\"\n",
    "echo \"\"\n",
    "echo \"Done\""
   ]
  },
  {
   "cell_type": "markdown",
   "id": "b02b31cf-e23f-455e-a338-7b3fe8f24f20",
   "metadata": {},
   "source": [
    "<img src=\"data:image/svg+xml;base64,Cjxzdmcgd2lkdGg9IjgwMCIgaGVpZ2h0PSI1MCIgdmlld0JveD0iMCAwIDgwMCA1MCIgeG1sbnM9Imh0dHA6Ly93d3cudzMub3JnLzIwMDAvc3ZnIj4KICAgIDxkZWZzPgogICAgICAgIDxsaW5lYXJHcmFkaWVudCBpZD0iZmFkZUdyYWRpZW50IiB4MT0iMCIgeDI9IjEiPgogICAgICAgICAgICA8c3RvcCBvZmZzZXQ9IjAlIiBzdG9wLWNvbG9yPSIjRjBGMEYwIi8+CiAgICAgICAgICAgIDxzdG9wIG9mZnNldD0iMTAwJSIgc3RvcC1jb2xvcj0iI0YwRjBGMCIgc3RvcC1vcGFjaXR5PSIwIi8+CiAgICAgICAgPC9saW5lYXJHcmFkaWVudD4KICAgICAgICA8bWFzayBpZD0iZmFkZU1hc2siPgogICAgICAgICAgICA8cmVjdCB4PSIwIiB5PSIwIiB3aWR0aD0iNzUwIiBoZWlnaHQ9IjUwIiBmaWxsPSJ3aGl0ZSIvPgogICAgICAgICAgICA8cmVjdCB4PSI3NTAiIHk9IjAiIHdpZHRoPSI1MCIgaGVpZ2h0PSI1MCIgZmlsbD0idXJsKCNmYWRlR3JhZGllbnQpIi8+CiAgICAgICAgPC9tYXNrPgogICAgPC9kZWZzPgogICAgPHBhdGggZD0iTTI1LDUwIFEwLDUwIDAsMjUgTDUwLDMgTDk3LDI1IEw3OTcsMjUgTDc5Nyw1MCBMMjUsNTAgWiIgZmlsbD0iI0YwRjBGMCIgc3Ryb2tlPSIjRTBFMEUwIiBzdHJva2Utd2lkdGg9IjEiIG1hc2s9InVybCgjZmFkZU1hc2spIi8+Cjwvc3ZnPgo=\" alt=\"Time alert close\"/>"
   ]
  },
  {
   "cell_type": "markdown",
   "id": "0e49a988-d61b-4199-888e-a819b05f41ba",
   "metadata": {},
   "source": [
    "After a successful build and push, list images in the ECR. You must see the latest built image."
   ]
  },
  {
   "cell_type": "code",
   "execution_count": null,
   "id": "a266854d-c109-4760-9a04-8916909b314a",
   "metadata": {},
   "outputs": [],
   "source": [
    "!aws ecr list-images --repository-name {repo_name}"
   ]
  },
  {
   "cell_type": "markdown",
   "id": "21a6a8c6-6400-4ff3-899b-d3d3e5b7f210",
   "metadata": {},
   "source": [
    "## Attach image to the SageMaker domain\n",
    "\n",
    "Having the image in the ECR repository in your account, you can now attach it to the SageMaker AI domain."
   ]
  },
  {
   "cell_type": "code",
   "execution_count": null,
   "id": "1629464c-ba7c-4c05-a970-8708fb864a7c",
   "metadata": {},
   "outputs": [],
   "source": [
    "# Output image URI\n",
    "ecr_uri"
   ]
  },
  {
   "cell_type": "markdown",
   "id": "77282f52-2d34-4323-a680-bac86b353fdb",
   "metadata": {},
   "source": [
    "Follow the instructions:\n",
    "\n",
    "1. Open the [SageMaker AI console](https://console.aws.amazon.com/sagemaker)\n",
    "2. Select **Admin configurations** on the left pane, choose **Domains**\n",
    "3. Select the domain to which you want to attach the image\n",
    "4. Select the **Environment** tab\n",
    "5. In the section **Custom images for personal Studio apps**, select **Attach image**\n",
    "6. Select **New image** and enter the image URI to the **Enter an ECR image URI**, select **Next**\n",
    "7. Enter an **Image name** and **Image display name**, for example `smd-geo` and `SageMaker Distribution Geo 1.11 CPU`\n",
    "8. Select **JupyterLab image** as application type and click on **Submit**"
   ]
  },
  {
   "cell_type": "markdown",
   "id": "25f5d95a-aaa2-4d70-8bf3-4eb132cd778e",
   "metadata": {},
   "source": [
    "## Create a JupyterLab app with the custom image\n",
    "\n",
    "Follow the instructions:"
   ]
  },
  {
   "cell_type": "code",
   "execution_count": 25,
   "id": "eab63df8-161f-4dcc-9e95-6ac431e11cbf",
   "metadata": {},
   "outputs": [
    {
     "data": {
      "text/html": [
       "<b>1. Open <a target=\"top\" href=\"https://studio-d-f3jonv4qj6w1.studio.us-east-1.sagemaker.aws/jupyterlab\">JupyterLab Spaces</a> in the Studio UI</b>"
      ],
      "text/plain": [
       "<IPython.core.display.HTML object>"
      ]
     },
     "metadata": {},
     "output_type": "display_data"
    }
   ],
   "source": [
    "# Show the Studio JupyterLab Apps link\n",
    "display(\n",
    "    HTML('<b>1. Open <a target=\"top\" href=\"https://studio-{}.studio.{}.sagemaker.aws/jupyterlab\">JupyterLab Spaces</a> in the Studio UI</b>'.format(\n",
    "            domain_id, region))\n",
    ")"
   ]
  },
  {
   "cell_type": "markdown",
   "id": "b9d26a36-de2c-4d82-90b9-7a6842cea8cd",
   "metadata": {},
   "source": [
    "2. Select **JupyterLab**\n",
    "3. Select **+ Create JupyterLab space** and enter a name for your new space, for example `geo-custom`, select **Create space**\n",
    "4. Select the custom image you attached to SageMaker Studio as **Image**\n",
    "5. Select **Run Space**\n",
    "\n",
    "![](../img/select-custom-image.png)\n",
    "\n",
    "Wait until the space change status to `Running` and select **Open**. This will open a JupyterLab app in a new browser tab."
   ]
  },
  {
   "cell_type": "markdown",
   "id": "f4d66e99-7466-4e04-89fa-84419125fd5b",
   "metadata": {},
   "source": [
    "## Use the custom image\n",
    "\n",
    "Now you can use the custom image in one of two ways:\n",
    "1. Use the image to run JupyterLab notebook kernels\n",
    "2. Use the image to run SageMaker training and processing jobs\n",
    "\n",
    "For these examples **change to the new JupyterLab app with the custom image** and open [`06_smd_custom_geospatial`](../06_smd_custom_geospatial.ipynb) notebook."
   ]
  },
  {
   "cell_type": "markdown",
   "id": "c4328a0b-bc91-4f73-b503-4c5d88f89a1f",
   "metadata": {},
   "source": [
    "---"
   ]
  }
 ],
 "metadata": {
  "kernelspec": {
   "display_name": "Python 3 (ipykernel)",
   "language": "python",
   "name": "python3"
  },
  "language_info": {
   "codemirror_mode": {
    "name": "ipython",
    "version": 3
   },
   "file_extension": ".py",
   "mimetype": "text/x-python",
   "name": "python",
   "nbconvert_exporter": "python",
   "pygments_lexer": "ipython3",
   "version": "3.10.14"
  }
 },
 "nbformat": 4,
 "nbformat_minor": 5
}
